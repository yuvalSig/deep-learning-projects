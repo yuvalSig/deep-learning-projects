{
  "nbformat": 4,
  "nbformat_minor": 0,
  "metadata": {
    "colab": {
      "provenance": [],
      "toc_visible": true
    },
    "kernelspec": {
      "name": "python3",
      "display_name": "Python 3"
    },
    "language_info": {
      "name": "python"
    }
  },
  "cells": [
    {
      "cell_type": "markdown",
      "source": [
        "# Exercise 1 - A one neuron neural network"
      ],
      "metadata": {
        "id": "E3gxQRhzpTv7"
      }
    },
    {
      "cell_type": "markdown",
      "source": [
        "# Q1: Implementing Multilinear regression"
      ],
      "metadata": {
        "id": "5eejCfZ6pOdF"
      }
    },
    {
      "cell_type": "markdown",
      "source": [
        "Imports:"
      ],
      "metadata": {
        "id": "PY64drpdr6Xu"
      }
    },
    {
      "cell_type": "code",
      "source": [
        "import torch\n",
        "from torch import nn\n",
        "import numpy as np\n",
        "import matplotlib.pyplot as plt\n",
        "import pandas as pd\n",
        "torch.manual_seed(42)"
      ],
      "metadata": {
        "id": "9vYymRBDr5Ti",
        "colab": {
          "base_uri": "https://localhost:8080/"
        },
        "outputId": "10ca2487-c660-4256-f8d1-eba8ce158bc4"
      },
      "execution_count": 147,
      "outputs": [
        {
          "output_type": "execute_result",
          "data": {
            "text/plain": [
              "<torch._C.Generator at 0x7c79d929be70>"
            ]
          },
          "metadata": {},
          "execution_count": 147
        }
      ]
    },
    {
      "cell_type": "markdown",
      "source": [
        "## Implementing a nn module and the forward function"
      ],
      "metadata": {
        "id": "HxXCnjrFpoN6"
      }
    },
    {
      "cell_type": "markdown",
      "source": [
        "For linear regression our implementation was:"
      ],
      "metadata": {
        "id": "HcXCaEcXpx40"
      }
    },
    {
      "cell_type": "code",
      "source": [
        "class LinearRegression(nn.Module):\n",
        "  def __init__(self):\n",
        "    super(LinearRegression, self).__init__()\n",
        "    self.w = torch.nn.Parameter(torch.randn(1))\n",
        "    self.b = torch.nn.Parameter(torch.randn(1))\n",
        "\n",
        "  def forward(self, x):\n",
        "    return self.w * x + self.b"
      ],
      "metadata": {
        "id": "EWojG8t6pR9w"
      },
      "execution_count": 155,
      "outputs": []
    },
    {
      "cell_type": "markdown",
      "source": [
        "### Write your implementation for multilinear regression here:"
      ],
      "metadata": {
        "id": "LyVN2iM6p3i1"
      }
    },
    {
      "cell_type": "code",
      "source": [
        "class MultilinearRegression(nn.Module):\n",
        "    def __init__(self, in_features):\n",
        "        super(MultilinearRegression, self).__init__()\n",
        "        self.weights = torch.nn.Parameter(torch.randn([1,in_features]))\n",
        "        self.bias = torch.nn.Parameter(torch.randn(1))\n",
        "\n",
        "\n",
        "    def forward(self, X):\n",
        "        return torch.matmul(X,self.weights.T) + self.bias"
      ],
      "metadata": {
        "id": "FiOsPo-grrve"
      },
      "execution_count": 156,
      "outputs": []
    },
    {
      "cell_type": "markdown",
      "source": [
        "\n",
        "**Note:** Remember to use **vectorization** whenever you can"
      ],
      "metadata": {
        "id": "ACzQpWBpsXrU"
      }
    },
    {
      "cell_type": "markdown",
      "source": [
        "### Test your implementation."
      ],
      "metadata": {
        "id": "PUBV9QzBxtf6"
      }
    },
    {
      "cell_type": "markdown",
      "source": [
        "#### Look at the weights and bias:"
      ],
      "metadata": {
        "id": "qT9kbTIItfu3"
      }
    },
    {
      "cell_type": "code",
      "source": [
        "model = MultilinearRegression(3)"
      ],
      "metadata": {
        "id": "pTqAdVgSxz2D"
      },
      "execution_count": 157,
      "outputs": []
    },
    {
      "cell_type": "code",
      "source": [
        "print(model.weights)\n",
        "print(model.bias)"
      ],
      "metadata": {
        "id": "-KP9AUUqx5K8",
        "colab": {
          "base_uri": "https://localhost:8080/"
        },
        "outputId": "6edbdd72-35ce-46eb-c5e8-5f0fc60d7a55"
      },
      "execution_count": 158,
      "outputs": [
        {
          "output_type": "stream",
          "name": "stdout",
          "text": [
            "Parameter containing:\n",
            "tensor([[-1.1229, -0.1863,  2.2082]], requires_grad=True)\n",
            "Parameter containing:\n",
            "tensor([-0.6380], requires_grad=True)\n"
          ]
        }
      ]
    },
    {
      "cell_type": "code",
      "source": [
        "for p in model.parameters():\n",
        "    print(p)"
      ],
      "metadata": {
        "id": "IxQoNSXBsYZm",
        "colab": {
          "base_uri": "https://localhost:8080/"
        },
        "outputId": "ee3f5483-29b5-4ada-c506-af68a916ba04"
      },
      "execution_count": 159,
      "outputs": [
        {
          "output_type": "stream",
          "name": "stdout",
          "text": [
            "Parameter containing:\n",
            "tensor([[-1.1229, -0.1863,  2.2082]], requires_grad=True)\n",
            "Parameter containing:\n",
            "tensor([-0.6380], requires_grad=True)\n"
          ]
        }
      ]
    },
    {
      "cell_type": "code",
      "source": [
        "print(model.state_dict())"
      ],
      "metadata": {
        "id": "FX8pIJYsyDek",
        "colab": {
          "base_uri": "https://localhost:8080/"
        },
        "outputId": "5ba73002-9bd4-447c-8a8b-52b960b34e38"
      },
      "execution_count": 160,
      "outputs": [
        {
          "output_type": "stream",
          "name": "stdout",
          "text": [
            "OrderedDict([('weights', tensor([[-1.1229, -0.1863,  2.2082]])), ('bias', tensor([-0.6380]))])\n"
          ]
        }
      ]
    },
    {
      "cell_type": "code",
      "source": [
        "print(model.state_dict()['weights'])"
      ],
      "metadata": {
        "id": "p81TQa8XyFrF",
        "colab": {
          "base_uri": "https://localhost:8080/"
        },
        "outputId": "e9353b08-5157-44e4-ee09-2015df9aa9ce"
      },
      "execution_count": 161,
      "outputs": [
        {
          "output_type": "stream",
          "name": "stdout",
          "text": [
            "tensor([[-1.1229, -0.1863,  2.2082]])\n"
          ]
        }
      ]
    },
    {
      "cell_type": "code",
      "source": [
        "print(model.state_dict()['bias'])"
      ],
      "metadata": {
        "id": "-PhuEmG2yKf6",
        "colab": {
          "base_uri": "https://localhost:8080/"
        },
        "outputId": "c105cddc-f5dd-4605-f16b-5502763db31e"
      },
      "execution_count": 162,
      "outputs": [
        {
          "output_type": "stream",
          "name": "stdout",
          "text": [
            "tensor([-0.6380])\n"
          ]
        }
      ]
    },
    {
      "cell_type": "code",
      "source": [
        "print(model.state_dict().keys())"
      ],
      "metadata": {
        "id": "zPtpyv7-yMXn",
        "colab": {
          "base_uri": "https://localhost:8080/"
        },
        "outputId": "e23a57c5-df03-4376-d142-723fd3653354"
      },
      "execution_count": 163,
      "outputs": [
        {
          "output_type": "stream",
          "name": "stdout",
          "text": [
            "odict_keys(['weights', 'bias'])\n"
          ]
        }
      ]
    },
    {
      "cell_type": "code",
      "source": [
        "print(model.state_dict().values())"
      ],
      "metadata": {
        "id": "DpUu3bQCySVf",
        "colab": {
          "base_uri": "https://localhost:8080/"
        },
        "outputId": "21707d66-c43a-4817-a763-9cfb8698f80d"
      },
      "execution_count": 164,
      "outputs": [
        {
          "output_type": "stream",
          "name": "stdout",
          "text": [
            "odict_values([tensor([[-1.1229, -0.1863,  2.2082]]), tensor([-0.6380])])\n"
          ]
        }
      ]
    },
    {
      "cell_type": "markdown",
      "source": [
        "#### Compare with PyTorch's built in module nn.Linear"
      ],
      "metadata": {
        "id": "_P7kZBytya_J"
      }
    },
    {
      "cell_type": "code",
      "source": [
        "m1 = nn.Linear(3, 1)"
      ],
      "metadata": {
        "id": "UdlgWkwQyUSw"
      },
      "execution_count": 165,
      "outputs": []
    },
    {
      "cell_type": "code",
      "source": [
        "print(m1.weight)\n",
        "print(m1.bias)"
      ],
      "metadata": {
        "id": "-ikHmSwj1W9b",
        "colab": {
          "base_uri": "https://localhost:8080/"
        },
        "outputId": "26f28976-757b-4227-ff90-9135704a06fc"
      },
      "execution_count": 166,
      "outputs": [
        {
          "output_type": "stream",
          "name": "stdout",
          "text": [
            "Parameter containing:\n",
            "tensor([[ 0.4451,  0.0853, -0.2695]], requires_grad=True)\n",
            "Parameter containing:\n",
            "tensor([0.1472], requires_grad=True)\n"
          ]
        }
      ]
    },
    {
      "cell_type": "code",
      "source": [
        "m2 = MultilinearRegression(3)"
      ],
      "metadata": {
        "id": "MNlzUKsvyknV"
      },
      "execution_count": 167,
      "outputs": []
    },
    {
      "cell_type": "code",
      "source": [
        "x = torch.randn(1, 3)"
      ],
      "metadata": {
        "id": "yD2O2cj20HzB"
      },
      "execution_count": 168,
      "outputs": []
    },
    {
      "cell_type": "code",
      "source": [
        "m1(x), m2(x)"
      ],
      "metadata": {
        "id": "ID58lyRR1m0z",
        "colab": {
          "base_uri": "https://localhost:8080/"
        },
        "outputId": "88a5f4d3-9687-414e-90f2-9b958054f0bb"
      },
      "execution_count": 169,
      "outputs": [
        {
          "output_type": "execute_result",
          "data": {
            "text/plain": [
              "(tensor([[-0.5676]], grad_fn=<AddmmBackward0>),\n",
              " tensor([[0.0245]], grad_fn=<AddBackward0>))"
            ]
          },
          "metadata": {},
          "execution_count": 169
        }
      ]
    },
    {
      "cell_type": "code",
      "source": [
        "for p1, p2 in zip(m1.parameters(), m2.parameters()):\n",
        "    p2.data = p1.data"
      ],
      "metadata": {
        "id": "hikUN3ElymUC"
      },
      "execution_count": 170,
      "outputs": []
    },
    {
      "cell_type": "code",
      "source": [
        "m1(x), m2(x)"
      ],
      "metadata": {
        "id": "3Dytzl4l0O-T",
        "colab": {
          "base_uri": "https://localhost:8080/"
        },
        "outputId": "bb1fa25f-a795-4fff-d3c8-2f0f20d95aa5"
      },
      "execution_count": 171,
      "outputs": [
        {
          "output_type": "execute_result",
          "data": {
            "text/plain": [
              "(tensor([[-0.5676]], grad_fn=<AddmmBackward0>),\n",
              " tensor([[-0.5676]], grad_fn=<AddBackward0>))"
            ]
          },
          "metadata": {},
          "execution_count": 171
        }
      ]
    },
    {
      "cell_type": "markdown",
      "source": [
        "## The MSE cost function"
      ],
      "metadata": {
        "id": "GCiwbnmD4Ru1"
      }
    },
    {
      "cell_type": "markdown",
      "source": [
        "### Your implementaiton"
      ],
      "metadata": {
        "id": "xpeHyrDP4SAk"
      }
    },
    {
      "cell_type": "code",
      "source": [
        "def MSE(y_hat, y):\n",
        "    return 0.5*(((y_hat-y)**2).mean())"
      ],
      "metadata": {
        "id": "rD6cdQmW780m"
      },
      "execution_count": 172,
      "outputs": []
    },
    {
      "cell_type": "markdown",
      "source": [
        "### Test"
      ],
      "metadata": {
        "id": "FUExSRF44YXy"
      }
    },
    {
      "cell_type": "code",
      "source": [
        "y = torch.tensor([[10.]])\n",
        "y_hat = torch.tensor([[9.]])\n",
        "\n",
        "2*MSE(y, y_hat), nn.MSELoss()(y, y_hat)"
      ],
      "metadata": {
        "id": "PnVSjd8L8G6N",
        "colab": {
          "base_uri": "https://localhost:8080/"
        },
        "outputId": "143f9cde-8b8a-4465-ff9c-6cdd227f2ee7"
      },
      "execution_count": 393,
      "outputs": [
        {
          "output_type": "execute_result",
          "data": {
            "text/plain": [
              "(tensor(1.), tensor(1.))"
            ]
          },
          "metadata": {},
          "execution_count": 393
        }
      ]
    },
    {
      "cell_type": "markdown",
      "source": [
        "Remember we multiplied the MSE by 0.5, to make the constant drops in derivation."
      ],
      "metadata": {
        "id": "-JYj6HA1JDVk"
      }
    },
    {
      "cell_type": "code",
      "source": [
        "y = torch.tensor([[10.], [1.]])\n",
        "y_hat = torch.tensor([[9.], [3.]])\n",
        "\n",
        "2*MSE(y, y_hat), nn.MSELoss()(y, y_hat)"
      ],
      "metadata": {
        "id": "g1ibp5Yn8VUs",
        "colab": {
          "base_uri": "https://localhost:8080/"
        },
        "outputId": "fc02a5d5-7f3d-4bb8-81d6-cb6a63bd7205"
      },
      "execution_count": 394,
      "outputs": [
        {
          "output_type": "execute_result",
          "data": {
            "text/plain": [
              "(tensor(2.5000), tensor(2.5000))"
            ]
          },
          "metadata": {},
          "execution_count": 394
        }
      ]
    },
    {
      "cell_type": "markdown",
      "source": [
        "## Computing the gradient"
      ],
      "metadata": {
        "id": "BE2K9spR4Yf8"
      }
    },
    {
      "cell_type": "markdown",
      "source": [
        "Remember the exercise from class:\n",
        "\n",
        "Compute the partial derivatives of:\n",
        "$$\n",
        "\\mathcal{L} = 0.5\\cdot(w^tx+b-y)^2,\n",
        "$$\n",
        "with respect to the parameters $w = (w_1,w_2,\\ldots,w_n)$ and $b$. The gradient $\\nabla \\mathcal{L}$ is the vector of these derivatives. And $\\nabla \\mathcal{L}(w)$ is the vector:\n",
        "$$\n",
        "\\nabla \\mathcal{L}(w) =\n",
        "(\\frac{\\partial \\mathcal{L}}{\\partial w_1}, \\frac{\\partial \\mathcal{L}}{\\partial w_2}, \\ldots,\\frac{\\partial \\mathcal{L}}{\\partial w_n} )\n",
        "$$"
      ],
      "metadata": {
        "id": "mbmMuFq199Vg"
      }
    },
    {
      "cell_type": "markdown",
      "source": [
        "And the solution:"
      ],
      "metadata": {
        "id": "CWlVBAoTB09t"
      }
    },
    {
      "cell_type": "markdown",
      "source": [
        "$\\frac{\\partial \\mathcal{L}}{\\partial w_i} = (w^tx+b-y)x_i = (\\hat{y}-y)x_i$\n",
        "\n",
        "$\\nabla \\mathcal{L} = (w^tx+b-y)x = (\\hat{y}-y)x$\n",
        "\n",
        "$\\frac{\\partial \\mathcal{L}}{\\partial b} = (w^tx+b-y) = (\\hat{y}-y)$"
      ],
      "metadata": {
        "id": "SXGiAsH_-8CA"
      }
    },
    {
      "cell_type": "markdown",
      "source": [
        "\n",
        "Remember that then we have $\\nabla \\mathcal{J} = \\frac{1}{m}\\nabla \\mathcal{L}$, by linearity of the gradient function."
      ],
      "metadata": {
        "id": "bv1hrFUdCPDJ"
      }
    },
    {
      "cell_type": "markdown",
      "source": [
        "### Your implementation"
      ],
      "metadata": {
        "id": "xEYwrak84Y4Q"
      }
    },
    {
      "cell_type": "code",
      "source": [
        "def gradient(y_hat, X, Y):\n",
        "  grad_bias= (y_hat-Y).mean()\n",
        "  grad_weights=((y_hat-Y).T @ X)/X.shape[0]\n",
        "  return  grad_weights, grad_bias\n"
      ],
      "metadata": {
        "id": "UVRMO-UWEC9Z"
      },
      "execution_count": 173,
      "outputs": []
    },
    {
      "cell_type": "markdown",
      "source": [
        "### Test: compare with PyTorch's autograd"
      ],
      "metadata": {
        "id": "Gd9qchOK4Y_s"
      }
    },
    {
      "cell_type": "code",
      "source": [
        "model = MultilinearRegression(3)"
      ],
      "metadata": {
        "id": "g6Wj4X0qNlGz"
      },
      "execution_count": 174,
      "outputs": []
    },
    {
      "cell_type": "code",
      "source": [
        "X = torch.randn(10, 3)\n",
        "Y = X@torch.randn(3,1) - 1 + torch.randn(10, 1)"
      ],
      "metadata": {
        "id": "i4AUgjpCNl0e"
      },
      "execution_count": 175,
      "outputs": []
    },
    {
      "cell_type": "code",
      "source": [
        "Y_hat = model(X)\n",
        "l = MSE(Y_hat, Y)"
      ],
      "metadata": {
        "id": "GckbRAvNNl9Y"
      },
      "execution_count": 176,
      "outputs": []
    },
    {
      "cell_type": "code",
      "source": [
        "l.backward()\n",
        "model.weights.grad, model.bias.grad"
      ],
      "metadata": {
        "id": "AC54dPmFNmGD",
        "colab": {
          "base_uri": "https://localhost:8080/"
        },
        "outputId": "eb1b5cda-a84e-4529-a15e-663f2e491a6e"
      },
      "execution_count": 177,
      "outputs": [
        {
          "output_type": "execute_result",
          "data": {
            "text/plain": [
              "(tensor([[-0.4738, -0.3983, -0.6183]]), tensor([2.1235]))"
            ]
          },
          "metadata": {},
          "execution_count": 177
        }
      ]
    },
    {
      "cell_type": "code",
      "source": [
        "gradient(Y_hat, X, Y)"
      ],
      "metadata": {
        "id": "cBGXX6iXNmO2",
        "colab": {
          "base_uri": "https://localhost:8080/"
        },
        "outputId": "50df63b6-51ba-474f-c227-b5727acbd906"
      },
      "execution_count": 178,
      "outputs": [
        {
          "output_type": "execute_result",
          "data": {
            "text/plain": [
              "(tensor([[-0.4738, -0.3983, -0.6183]], grad_fn=<DivBackward0>),\n",
              " tensor(2.1235, grad_fn=<MeanBackward0>))"
            ]
          },
          "metadata": {},
          "execution_count": 178
        }
      ]
    },
    {
      "cell_type": "markdown",
      "source": [
        "## Implementing gradient descent"
      ],
      "metadata": {
        "id": "N-Y0B2gR2Xez"
      }
    },
    {
      "cell_type": "markdown",
      "source": [
        "#### Your implementation:"
      ],
      "metadata": {
        "id": "pZlTBbcY4CGx"
      }
    },
    {
      "cell_type": "code",
      "source": [
        "def train(model, X, Y, epochs, learning_rate):\n",
        "    for epoch in range(epochs):\n",
        "        # Forward pass: compute predictions\n",
        "        Y_hat = model(X)\n",
        "\n",
        "        # Compute loss\n",
        "        l = MSE(Y_hat, Y)\n",
        "\n",
        "        # Backward pass: compute gradients\n",
        "        l.backward()\n",
        "\n",
        "        # Update weights and bias\n",
        "        with torch.no_grad():\n",
        "            model.weights -= learning_rate * model.weights.grad\n",
        "            model.bias -= learning_rate * model.bias.grad\n",
        "\n",
        "        # Zero gradients after update\n",
        "        model.weights.grad.zero_()\n",
        "        model.bias.grad.zero_()\n",
        "\n",
        "        # Print loss for each epoch\n",
        "        print(f\"Epoch: {epoch}, Loss: {l.item()}\")\n"
      ],
      "metadata": {
        "id": "EuhA1HmZ2r18"
      },
      "execution_count": 179,
      "outputs": []
    },
    {
      "cell_type": "markdown",
      "source": [
        "### Test: use torch.optim"
      ],
      "metadata": {
        "id": "z5T-R1NC2X0n"
      }
    },
    {
      "cell_type": "code",
      "source": [
        "def train_optim(model, X, Y, epochs, learning_rate):\n",
        "    optimizer = torch.optim.SGD(model.parameters(), lr=learning_rate)\n",
        "    for epoch in range(epochs):\n",
        "        Y_hat = model(X)\n",
        "        l = MSE(Y_hat, Y)\n",
        "        optimizer.zero_grad()\n",
        "        l.backward()\n",
        "        optimizer.step()\n",
        "        print(f\"Epoch: {epoch}, Loss: {l}\")"
      ],
      "metadata": {
        "id": "qxxzxzQP2u_Q"
      },
      "execution_count": 180,
      "outputs": []
    },
    {
      "cell_type": "code",
      "source": [
        "torch.manual_seed(1)\n",
        "model = MultilinearRegression(3)\n",
        "X = torch.randn(10, 3)\n",
        "Y = X@torch.randn(3,1) - 1 + torch.randn(10, 1)"
      ],
      "metadata": {
        "id": "5zAxOEvOR7rx"
      },
      "execution_count": 181,
      "outputs": []
    },
    {
      "cell_type": "code",
      "source": [
        "train(model, X, Y, 5, 0.01)"
      ],
      "metadata": {
        "id": "gsf0tMy1SGRs",
        "colab": {
          "base_uri": "https://localhost:8080/"
        },
        "outputId": "f188ac9c-f9c7-4447-96f1-3a6e18428db0"
      },
      "execution_count": 182,
      "outputs": [
        {
          "output_type": "stream",
          "name": "stdout",
          "text": [
            "Epoch: 0, Loss: 3.087578296661377\n",
            "Epoch: 1, Loss: 3.044194459915161\n",
            "Epoch: 2, Loss: 3.0018668174743652\n",
            "Epoch: 3, Loss: 2.960562229156494\n",
            "Epoch: 4, Loss: 2.92024827003479\n"
          ]
        }
      ]
    },
    {
      "cell_type": "code",
      "source": [
        "print(model.weights)\n",
        "print(model.bias)"
      ],
      "metadata": {
        "id": "tX__Nd23Xy53",
        "colab": {
          "base_uri": "https://localhost:8080/"
        },
        "outputId": "070445d9-7cd5-4453-8a01-1ff3809e7b0d"
      },
      "execution_count": 183,
      "outputs": [
        {
          "output_type": "stream",
          "name": "stdout",
          "text": [
            "Parameter containing:\n",
            "tensor([[0.7498, 0.2586, 0.0314]], requires_grad=True)\n",
            "Parameter containing:\n",
            "tensor([0.5816], requires_grad=True)\n"
          ]
        }
      ]
    },
    {
      "cell_type": "code",
      "source": [
        "torch.manual_seed(1)\n",
        "model = MultilinearRegression(3)\n",
        "X = torch.randn(10, 3)\n",
        "Y = X@torch.randn(3,1) - 1 + torch.randn(10, 1)"
      ],
      "metadata": {
        "id": "VCJ0Jw1PTRGP"
      },
      "execution_count": 185,
      "outputs": []
    },
    {
      "cell_type": "code",
      "source": [
        "train_optim(model, X, Y, 5, 0.01)"
      ],
      "metadata": {
        "id": "ONjkahBqSQ-z",
        "colab": {
          "base_uri": "https://localhost:8080/"
        },
        "outputId": "d666627e-34ea-474c-be55-014c1efa3743"
      },
      "execution_count": 186,
      "outputs": [
        {
          "output_type": "stream",
          "name": "stdout",
          "text": [
            "Epoch: 0, Loss: 3.087578296661377\n",
            "Epoch: 1, Loss: 3.044194459915161\n",
            "Epoch: 2, Loss: 3.0018668174743652\n",
            "Epoch: 3, Loss: 2.960562229156494\n",
            "Epoch: 4, Loss: 2.92024827003479\n"
          ]
        }
      ]
    },
    {
      "cell_type": "code",
      "source": [
        "print(model.weights)\n",
        "print(model.bias)"
      ],
      "metadata": {
        "id": "UIECaiFLX4Od",
        "colab": {
          "base_uri": "https://localhost:8080/"
        },
        "outputId": "19d7dca2-6cc5-4d99-d247-e8546cba2494"
      },
      "execution_count": 187,
      "outputs": [
        {
          "output_type": "stream",
          "name": "stdout",
          "text": [
            "Parameter containing:\n",
            "tensor([[0.7498, 0.2586, 0.0314]], requires_grad=True)\n",
            "Parameter containing:\n",
            "tensor([0.5816], requires_grad=True)\n"
          ]
        }
      ]
    },
    {
      "cell_type": "markdown",
      "source": [
        "## Create some data"
      ],
      "metadata": {
        "id": "Wt47dHjQ5CCN"
      }
    },
    {
      "cell_type": "code",
      "source": [
        "class Dataset(torch.utils.data.Dataset):\n",
        "    def __init__(self):\n",
        "        self.X = torch.randn(10, 3)\n",
        "        self.Y = self.X@torch.randn(3,1) - 1 + torch.randn(10, 1)\n",
        "\n",
        "    def __getitem__(self, idx):\n",
        "        return self.X[idx], self.Y[idx]\n",
        "\n",
        "    def __len__(self):\n",
        "        return self.X[0]\n"
      ],
      "metadata": {
        "id": "0W_eUwjQ5Epv"
      },
      "execution_count": 188,
      "outputs": []
    },
    {
      "cell_type": "markdown",
      "source": [
        "## Puting it all together - the learning model"
      ],
      "metadata": {
        "id": "pR5FAnSW2X8r"
      }
    },
    {
      "cell_type": "code",
      "source": [
        "class LearningModel():\n",
        "    def __init__(self):\n",
        "\n",
        "        self.data = Dataset()\n",
        "        self.model = MultilinearRegression(in_features=X.data.shape[1])\n",
        "        self.criterion = MSE\n",
        "\n",
        "\n",
        "    @staticmethod\n",
        "    def plotLoss(loss):\n",
        "\n",
        "        import matplotlib.pyplot as plt\n",
        "        plt.plot(loss)\n",
        "        plt.title(\"Loss over Epochs\")\n",
        "        plt.xlabel(\"Epoch\")\n",
        "        plt.ylabel(\"Loss\")\n",
        "        plt.show()\n",
        "\n",
        "    def train(self, epochs, learning_rate):\n",
        "\n",
        "        loss = []\n",
        "        for epoch in range(epochs):\n",
        "            # Get X, Y from dataset\n",
        "            X, Y = self.data.X, self.data.Y\n",
        "\n",
        "            # Predictions\n",
        "            y_hat = self.model(X)\n",
        "\n",
        "            # Calculate loss\n",
        "            l = self.criterion(y_hat, Y)\n",
        "\n",
        "            # Compute gradients\n",
        "            l.backward()\n",
        "\n",
        "            # Update weights and bias\n",
        "            with torch.no_grad():\n",
        "                self.model.weights -= learning_rate * self.model.weights.grad\n",
        "                self.model.bias -= learning_rate * self.model.bias.grad\n",
        "\n",
        "            # Reset gradients\n",
        "            self.model.weights.grad.zero_()\n",
        "            self.model.bias.grad.zero_()\n",
        "\n",
        "            # Store loss\n",
        "            loss.append(l.item())\n",
        "            print(f\"Epoch: {epoch}, Loss: {l.item()}\")\n",
        "\n",
        "        return loss\n"
      ],
      "metadata": {
        "id": "M-kptD-72vk_"
      },
      "execution_count": 189,
      "outputs": []
    },
    {
      "cell_type": "code",
      "source": [
        "torch.manual_seed(1)\n",
        "lm = LearningModel()\n",
        "l = lm.train(5, 0.01)"
      ],
      "metadata": {
        "id": "pbC5fnaaXGb_",
        "colab": {
          "base_uri": "https://localhost:8080/"
        },
        "outputId": "95e79f08-6cbc-45a3-c770-b11c6f3ec895"
      },
      "execution_count": 190,
      "outputs": [
        {
          "output_type": "stream",
          "name": "stdout",
          "text": [
            "Epoch: 0, Loss: 2.0201728343963623\n",
            "Epoch: 1, Loss: 1.9795290231704712\n",
            "Epoch: 2, Loss: 1.940289855003357\n",
            "Epoch: 3, Loss: 1.9024031162261963\n",
            "Epoch: 4, Loss: 1.8658173084259033\n"
          ]
        }
      ]
    },
    {
      "cell_type": "code",
      "source": [
        "lm.plotLoss(l)"
      ],
      "metadata": {
        "id": "KxuoPt9EPKpF",
        "colab": {
          "base_uri": "https://localhost:8080/",
          "height": 472
        },
        "outputId": "58dcf4a2-9bf0-4971-ab3b-2f502484396d"
      },
      "execution_count": 191,
      "outputs": [
        {
          "output_type": "display_data",
          "data": {
            "text/plain": [
              "<Figure size 640x480 with 1 Axes>"
            ],
            "image/png": "[encoded data removed]"
          },
          "metadata": {}
        }
      ]
    },
    {
      "cell_type": "markdown",
      "source": [
        "# Q2: Experiments"
      ],
      "metadata": {
        "id": "rGuHCqgO3ewm"
      }
    },
    {
      "cell_type": "markdown",
      "source": [
        "### Q2A: Use multilinear regression on real life problems/datasets."
      ],
      "metadata": {
        "id": "N59GlbX63hoy"
      }
    },
    {
      "cell_type": "markdown",
      "source": [
        "The aim here is to train your model on a regression dataset. There are many you can find online, here are a few options:\n",
        "\n",
        "\n",
        "1.   [Kaggle datasets](https://www.kaggle.com/datasets)\n",
        "2.   [California Housing - from sklearn](https://scikit-learn.org/1.5/modules/generated/sklearn.datasets.fetch_california_housing.html#sklearn.datasets.fetch_california_housing)\n",
        "3. [UCI Machine Learning Repository](https://archive.ics.uci.edu/datasets)\n",
        "4. [And many more](https://www.telusdigital.com/insights/ai-data/article/10-open-datasets-for-linear-regression)\n",
        "\n"
      ],
      "metadata": {
        "id": "BchYFRy6teEN"
      }
    },
    {
      "cell_type": "code",
      "source": [
        "import numpy as np\n",
        "from sklearn.datasets import fetch_california_housing\n",
        "from sklearn.model_selection import train_test_split\n",
        "from sklearn.preprocessing import StandardScaler\n",
        "import matplotlib.pyplot as plt\n",
        "\n",
        "# Download the data\n",
        "data = fetch_california_housing()\n",
        "X, Y = data.data, data.target\n",
        "\n",
        "# Split into training and test sets (80% for training, 20% for testing)\n",
        "X_train, X_test, Y_train, Y_test = train_test_split(X, Y, test_size=0.2, random_state=42)\n",
        "\n",
        "# Normalize the data\n",
        "scaler = StandardScaler()\n",
        "X_train = scaler.fit_transform(X_train)\n",
        "X_test = scaler.transform(X_test)\n",
        "\n",
        "# Convert the data to PyTorch tensors\n",
        "X_train_tensor = torch.tensor(X_train, dtype=torch.float32)\n",
        "X_test_tensor = torch.tensor(X_test, dtype=torch.float32)\n",
        "Y_train_tensor = torch.tensor(Y_train, dtype=torch.float32).view(-1, 1)\n",
        "Y_test_tensor = torch.tensor(Y_test, dtype=torch.float32).view(-1, 1)\n",
        "\n",
        "# Create the model with the number of features in the data\n",
        "learning_model = LearningModel()\n",
        "\n",
        "# Set the data in the LearningModel class\n",
        "learning_model.data.X = X_train_tensor\n",
        "learning_model.data.Y = Y_train_tensor\n",
        "\n",
        "# Train the model\n",
        "loss = learning_model.train(epochs=100, learning_rate=0.01)\n",
        "\n",
        "# Plot the loss over the epochs\n",
        "learning_model.plotLoss(loss)\n",
        "\n",
        "# Make predictions on the test set\n",
        "y_pred = learning_model.model(X_test_tensor)\n",
        "\n",
        "# Calculate the loss on the test set\n",
        "test_loss = learning_model.criterion(y_pred, Y_test_tensor)\n",
        "print(f'Test Loss: {test_loss.item()}')\n"
      ],
      "metadata": {
        "id": "4vyHXl6y3o7P",
        "colab": {
          "base_uri": "https://localhost:8080/",
          "height": 1000
        },
        "outputId": "f985fff1-4368-4c3f-d47e-b83dbbd15540"
      },
      "execution_count": 192,
      "outputs": [
        {
          "output_type": "stream",
          "name": "stdout",
          "text": [
            "Epoch: 0, Loss: 7.597715854644775\n",
            "Epoch: 1, Loss: 7.36944580078125\n",
            "Epoch: 2, Loss: 7.148832321166992\n",
            "Epoch: 3, Loss: 6.935605525970459\n",
            "Epoch: 4, Loss: 6.729510307312012\n",
            "Epoch: 5, Loss: 6.530298233032227\n",
            "Epoch: 6, Loss: 6.337728977203369\n",
            "Epoch: 7, Loss: 6.1515727043151855\n",
            "Epoch: 8, Loss: 5.9716057777404785\n",
            "Epoch: 9, Loss: 5.797614097595215\n",
            "Epoch: 10, Loss: 5.629391193389893\n",
            "Epoch: 11, Loss: 5.466737270355225\n",
            "Epoch: 12, Loss: 5.309459686279297\n",
            "Epoch: 13, Loss: 5.15737247467041\n",
            "Epoch: 14, Loss: 5.01029634475708\n",
            "Epoch: 15, Loss: 4.868060111999512\n",
            "Epoch: 16, Loss: 4.730495929718018\n",
            "Epoch: 17, Loss: 4.597442150115967\n",
            "Epoch: 18, Loss: 4.468745231628418\n",
            "Epoch: 19, Loss: 4.3442559242248535\n",
            "Epoch: 20, Loss: 4.22382926940918\n",
            "Epoch: 21, Loss: 4.107326507568359\n",
            "Epoch: 22, Loss: 3.9946129322052\n",
            "Epoch: 23, Loss: 3.885559320449829\n",
            "Epoch: 24, Loss: 3.780041217803955\n",
            "Epoch: 25, Loss: 3.6779375076293945\n",
            "Epoch: 26, Loss: 3.579132556915283\n",
            "Epoch: 27, Loss: 3.483513832092285\n",
            "Epoch: 28, Loss: 3.3909730911254883\n",
            "Epoch: 29, Loss: 3.301405668258667\n",
            "Epoch: 30, Loss: 3.2147111892700195\n",
            "Epoch: 31, Loss: 3.1307930946350098\n",
            "Epoch: 32, Loss: 3.049556016921997\n",
            "Epoch: 33, Loss: 2.9709105491638184\n",
            "Epoch: 34, Loss: 2.8947691917419434\n",
            "Epoch: 35, Loss: 2.82104754447937\n",
            "Epoch: 36, Loss: 2.749664306640625\n",
            "Epoch: 37, Loss: 2.6805410385131836\n",
            "Epoch: 38, Loss: 2.6136016845703125\n",
            "Epoch: 39, Loss: 2.5487732887268066\n",
            "Epoch: 40, Loss: 2.485985279083252\n",
            "Epoch: 41, Loss: 2.4251692295074463\n",
            "Epoch: 42, Loss: 2.3662595748901367\n",
            "Epoch: 43, Loss: 2.3091931343078613\n",
            "Epoch: 44, Loss: 2.253908395767212\n",
            "Epoch: 45, Loss: 2.2003462314605713\n",
            "Epoch: 46, Loss: 2.148449182510376\n",
            "Epoch: 47, Loss: 2.0981621742248535\n",
            "Epoch: 48, Loss: 2.0494327545166016\n",
            "Epoch: 49, Loss: 2.002208709716797\n",
            "Epoch: 50, Loss: 1.9564403295516968\n",
            "Epoch: 51, Loss: 1.91208016872406\n",
            "Epoch: 52, Loss: 1.8690818548202515\n",
            "Epoch: 53, Loss: 1.8274005651474\n",
            "Epoch: 54, Loss: 1.786993384361267\n",
            "Epoch: 55, Loss: 1.7478183507919312\n",
            "Epoch: 56, Loss: 1.709835410118103\n",
            "Epoch: 57, Loss: 1.6730055809020996\n",
            "Epoch: 58, Loss: 1.637291431427002\n",
            "Epoch: 59, Loss: 1.6026568412780762\n",
            "Epoch: 60, Loss: 1.5690667629241943\n",
            "Epoch: 61, Loss: 1.5364867448806763\n",
            "Epoch: 62, Loss: 1.504884958267212\n",
            "Epoch: 63, Loss: 1.4742292165756226\n",
            "Epoch: 64, Loss: 1.4444894790649414\n",
            "Epoch: 65, Loss: 1.4156359434127808\n",
            "Epoch: 66, Loss: 1.3876404762268066\n",
            "Epoch: 67, Loss: 1.3604753017425537\n",
            "Epoch: 68, Loss: 1.3341138362884521\n",
            "Epoch: 69, Loss: 1.308530569076538\n",
            "Epoch: 70, Loss: 1.2837004661560059\n",
            "Epoch: 71, Loss: 1.2595998048782349\n",
            "Epoch: 72, Loss: 1.2362053394317627\n",
            "Epoch: 73, Loss: 1.2134945392608643\n",
            "Epoch: 74, Loss: 1.1914457082748413\n",
            "Epoch: 75, Loss: 1.1700384616851807\n",
            "Epoch: 76, Loss: 1.149251937866211\n",
            "Epoch: 77, Loss: 1.129066824913025\n",
            "Epoch: 78, Loss: 1.1094642877578735\n",
            "Epoch: 79, Loss: 1.090425968170166\n",
            "Epoch: 80, Loss: 1.071934461593628\n",
            "Epoch: 81, Loss: 1.0539721250534058\n",
            "Epoch: 82, Loss: 1.0365228652954102\n",
            "Epoch: 83, Loss: 1.0195707082748413\n",
            "Epoch: 84, Loss: 1.0031002759933472\n",
            "Epoch: 85, Loss: 0.9870964884757996\n",
            "Epoch: 86, Loss: 0.9715448617935181\n",
            "Epoch: 87, Loss: 0.9564313888549805\n",
            "Epoch: 88, Loss: 0.9417427778244019\n",
            "Epoch: 89, Loss: 0.9274660348892212\n",
            "Epoch: 90, Loss: 0.913588285446167\n",
            "Epoch: 91, Loss: 0.9000972509384155\n",
            "Epoch: 92, Loss: 0.8869814872741699\n",
            "Epoch: 93, Loss: 0.8742291927337646\n",
            "Epoch: 94, Loss: 0.8618294596672058\n",
            "Epoch: 95, Loss: 0.8497716784477234\n",
            "Epoch: 96, Loss: 0.8380451798439026\n",
            "Epoch: 97, Loss: 0.8266401886940002\n",
            "Epoch: 98, Loss: 0.815546989440918\n",
            "Epoch: 99, Loss: 0.8047561049461365\n"
          ]
        },
        {
          "output_type": "display_data",
          "data": {
            "text/plain": [
              "<Figure size 640x480 with 1 Axes>"
            ],
            "image/png": "[encoded data removed]"
          },
          "metadata": {}
        },
        {
          "output_type": "stream",
          "name": "stdout",
          "text": [
            "Test Loss: 0.8827938437461853\n"
          ]
        }
      ]
    },
    {
      "cell_type": "markdown",
      "source": [
        "### Q2B: Study the affect of the learning rate on the learning process."
      ],
      "metadata": {
        "id": "TX4a-X0U3hzG"
      }
    },
    {
      "cell_type": "code",
      "source": [
        "\n",
        "\n",
        "# Create the model with the number of features in the data\n",
        "learning_model = LearningModel()\n",
        "\n",
        "# Set the data in the LearningModel class\n",
        "learning_model.data.X = X_train_tensor\n",
        "learning_model.data.Y = Y_train_tensor\n",
        "\n",
        "# Train the model\n",
        "learning_rates = [0.0001, 0.01, 0.1]\n",
        "for lr in learning_rates:\n",
        "  loss = learning_model.train(epochs=100, learning_rate=lr)\n",
        "\n",
        "  # Plot the loss over the epochs\n",
        "  learning_model.plotLoss(loss)\n",
        "\n",
        "  # Make predictions on the test set\n",
        "  y_pred = learning_model.model(X_test_tensor)\n",
        "\n",
        "  # Calculate the loss on the test set\n",
        "  test_loss = learning_model.criterion(y_pred, Y_test_tensor)\n",
        "  print(f'Test Loss: {test_loss.item()}')\n"
      ],
      "metadata": {
        "colab": {
          "base_uri": "https://localhost:8080/",
          "height": 1000
        },
        "id": "2geXujIN9Ur1",
        "outputId": "4ebd7a43-73a9-4bb3-c501-b727e31a7277"
      },
      "execution_count": 193,
      "outputs": [
        {
          "output_type": "stream",
          "name": "stdout",
          "text": [
            "Epoch: 0, Loss: 7.645617961883545\n",
            "Epoch: 1, Loss: 7.644072532653809\n",
            "Epoch: 2, Loss: 7.642525672912598\n",
            "Epoch: 3, Loss: 7.640979766845703\n",
            "Epoch: 4, Loss: 7.639434814453125\n",
            "Epoch: 5, Loss: 7.637889862060547\n",
            "Epoch: 6, Loss: 7.636344909667969\n",
            "Epoch: 7, Loss: 7.634800910949707\n",
            "Epoch: 8, Loss: 7.633257865905762\n",
            "Epoch: 9, Loss: 7.6317138671875\n",
            "Epoch: 10, Loss: 7.6301703453063965\n",
            "Epoch: 11, Loss: 7.628628253936768\n",
            "Epoch: 12, Loss: 7.627086162567139\n",
            "Epoch: 13, Loss: 7.625543117523193\n",
            "Epoch: 14, Loss: 7.624001979827881\n",
            "Epoch: 15, Loss: 7.622460842132568\n",
            "Epoch: 16, Loss: 7.620919704437256\n",
            "Epoch: 17, Loss: 7.61937952041626\n",
            "Epoch: 18, Loss: 7.617839336395264\n",
            "Epoch: 19, Loss: 7.616299629211426\n",
            "Epoch: 20, Loss: 7.614760398864746\n",
            "Epoch: 21, Loss: 7.613221168518066\n",
            "Epoch: 22, Loss: 7.611682891845703\n",
            "Epoch: 23, Loss: 7.610144138336182\n",
            "Epoch: 24, Loss: 7.608606338500977\n",
            "Epoch: 25, Loss: 7.607068061828613\n",
            "Epoch: 26, Loss: 7.605531215667725\n",
            "Epoch: 27, Loss: 7.603993892669678\n",
            "Epoch: 28, Loss: 7.602456569671631\n",
            "Epoch: 29, Loss: 7.600921154022217\n",
            "Epoch: 30, Loss: 7.599386215209961\n",
            "Epoch: 31, Loss: 7.597850799560547\n",
            "Epoch: 32, Loss: 7.596315860748291\n",
            "Epoch: 33, Loss: 7.594779968261719\n",
            "Epoch: 34, Loss: 7.593245983123779\n",
            "Epoch: 35, Loss: 7.591711521148682\n",
            "Epoch: 36, Loss: 7.5901780128479\n",
            "Epoch: 37, Loss: 7.5886454582214355\n",
            "Epoch: 38, Loss: 7.587111949920654\n",
            "Epoch: 39, Loss: 7.585578918457031\n",
            "Epoch: 40, Loss: 7.584046840667725\n",
            "Epoch: 41, Loss: 7.582515239715576\n",
            "Epoch: 42, Loss: 7.580984592437744\n",
            "Epoch: 43, Loss: 7.579452991485596\n",
            "Epoch: 44, Loss: 7.577921390533447\n",
            "Epoch: 45, Loss: 7.576390743255615\n",
            "Epoch: 46, Loss: 7.574861526489258\n",
            "Epoch: 47, Loss: 7.573331356048584\n",
            "Epoch: 48, Loss: 7.571802616119385\n",
            "Epoch: 49, Loss: 7.5702738761901855\n",
            "Epoch: 50, Loss: 7.5687456130981445\n",
            "Epoch: 51, Loss: 7.5672173500061035\n",
            "Epoch: 52, Loss: 7.5656890869140625\n",
            "Epoch: 53, Loss: 7.564161777496338\n",
            "Epoch: 54, Loss: 7.562633514404297\n",
            "Epoch: 55, Loss: 7.561107158660889\n",
            "Epoch: 56, Loss: 7.5595808029174805\n",
            "Epoch: 57, Loss: 7.558053493499756\n",
            "Epoch: 58, Loss: 7.556528568267822\n",
            "Epoch: 59, Loss: 7.555002689361572\n",
            "Epoch: 60, Loss: 7.553478240966797\n",
            "Epoch: 61, Loss: 7.5519537925720215\n",
            "Epoch: 62, Loss: 7.550429821014404\n",
            "Epoch: 63, Loss: 7.548905372619629\n",
            "Epoch: 64, Loss: 7.54738187789917\n",
            "Epoch: 65, Loss: 7.545858860015869\n",
            "Epoch: 66, Loss: 7.544335842132568\n",
            "Epoch: 67, Loss: 7.542813301086426\n",
            "Epoch: 68, Loss: 7.541291236877441\n",
            "Epoch: 69, Loss: 7.539769649505615\n",
            "Epoch: 70, Loss: 7.538248538970947\n",
            "Epoch: 71, Loss: 7.536726951599121\n",
            "Epoch: 72, Loss: 7.535206317901611\n",
            "Epoch: 73, Loss: 7.533685684204102\n",
            "Epoch: 74, Loss: 7.532166004180908\n",
            "Epoch: 75, Loss: 7.530645847320557\n",
            "Epoch: 76, Loss: 7.5291266441345215\n",
            "Epoch: 77, Loss: 7.527608394622803\n",
            "Epoch: 78, Loss: 7.526089191436768\n",
            "Epoch: 79, Loss: 7.524570941925049\n",
            "Epoch: 80, Loss: 7.5230536460876465\n",
            "Epoch: 81, Loss: 7.521535873413086\n",
            "Epoch: 82, Loss: 7.520019054412842\n",
            "Epoch: 83, Loss: 7.518501281738281\n",
            "Epoch: 84, Loss: 7.5169854164123535\n",
            "Epoch: 85, Loss: 7.515469074249268\n",
            "Epoch: 86, Loss: 7.51395320892334\n",
            "Epoch: 87, Loss: 7.5124382972717285\n",
            "Epoch: 88, Loss: 7.510923862457275\n",
            "Epoch: 89, Loss: 7.509408950805664\n",
            "Epoch: 90, Loss: 7.507894039154053\n",
            "Epoch: 91, Loss: 7.506380081176758\n",
            "Epoch: 92, Loss: 7.504867076873779\n",
            "Epoch: 93, Loss: 7.503353118896484\n",
            "Epoch: 94, Loss: 7.501840591430664\n",
            "Epoch: 95, Loss: 7.5003275871276855\n",
            "Epoch: 96, Loss: 7.498815059661865\n",
            "Epoch: 97, Loss: 7.497303485870361\n",
            "Epoch: 98, Loss: 7.495793342590332\n",
            "Epoch: 99, Loss: 7.494281768798828\n"
          ]
        },
        {
          "output_type": "display_data",
          "data": {
            "text/plain": [
              "<Figure size 640x480 with 1 Axes>"
            ],
            "image/png": "[encoded data removed]"
          },
          "metadata": {}
        },
        {
          "output_type": "stream",
          "name": "stdout",
          "text": [
            "Test Loss: 7.711705684661865\n",
            "Epoch: 0, Loss: 7.492770671844482\n",
            "Epoch: 1, Loss: 7.342610836029053\n",
            "Epoch: 2, Loss: 7.195951461791992\n",
            "Epoch: 3, Loss: 7.052701950073242\n",
            "Epoch: 4, Loss: 6.912770748138428\n",
            "Epoch: 5, Loss: 6.776073932647705\n",
            "Epoch: 6, Loss: 6.642526149749756\n",
            "Epoch: 7, Loss: 6.512044906616211\n",
            "Epoch: 8, Loss: 6.384551525115967\n",
            "Epoch: 9, Loss: 6.259968280792236\n",
            "Epoch: 10, Loss: 6.13822078704834\n",
            "Epoch: 11, Loss: 6.019237041473389\n",
            "Epoch: 12, Loss: 5.9029459953308105\n",
            "Epoch: 13, Loss: 5.789278030395508\n",
            "Epoch: 14, Loss: 5.678167343139648\n",
            "Epoch: 15, Loss: 5.569549560546875\n",
            "Epoch: 16, Loss: 5.46336030960083\n",
            "Epoch: 17, Loss: 5.359539985656738\n",
            "Epoch: 18, Loss: 5.258028507232666\n",
            "Epoch: 19, Loss: 5.158768653869629\n",
            "Epoch: 20, Loss: 5.061703205108643\n",
            "Epoch: 21, Loss: 4.966777801513672\n",
            "Epoch: 22, Loss: 4.873940467834473\n",
            "Epoch: 23, Loss: 4.783139705657959\n",
            "Epoch: 24, Loss: 4.694323539733887\n",
            "Epoch: 25, Loss: 4.607445240020752\n",
            "Epoch: 26, Loss: 4.52245569229126\n",
            "Epoch: 27, Loss: 4.439309597015381\n",
            "Epoch: 28, Loss: 4.3579630851745605\n",
            "Epoch: 29, Loss: 4.2783708572387695\n",
            "Epoch: 30, Loss: 4.200490951538086\n",
            "Epoch: 31, Loss: 4.1242828369140625\n",
            "Epoch: 32, Loss: 4.04970645904541\n",
            "Epoch: 33, Loss: 3.9767215251922607\n",
            "Epoch: 34, Loss: 3.905290365219116\n",
            "Epoch: 35, Loss: 3.835376739501953\n",
            "Epoch: 36, Loss: 3.766944169998169\n",
            "Epoch: 37, Loss: 3.699957847595215\n",
            "Epoch: 38, Loss: 3.634382486343384\n",
            "Epoch: 39, Loss: 3.570185661315918\n",
            "Epoch: 40, Loss: 3.507336139678955\n",
            "Epoch: 41, Loss: 3.44580078125\n",
            "Epoch: 42, Loss: 3.385549545288086\n",
            "Epoch: 43, Loss: 3.3265531063079834\n",
            "Epoch: 44, Loss: 3.2687814235687256\n",
            "Epoch: 45, Loss: 3.2122066020965576\n",
            "Epoch: 46, Loss: 3.1568009853363037\n",
            "Epoch: 47, Loss: 3.1025376319885254\n",
            "Epoch: 48, Loss: 3.0493907928466797\n",
            "Epoch: 49, Loss: 2.9973347187042236\n",
            "Epoch: 50, Loss: 2.9463443756103516\n",
            "Epoch: 51, Loss: 2.896395444869995\n",
            "Epoch: 52, Loss: 2.8474643230438232\n",
            "Epoch: 53, Loss: 2.7995285987854004\n",
            "Epoch: 54, Loss: 2.7525649070739746\n",
            "Epoch: 55, Loss: 2.706552267074585\n",
            "Epoch: 56, Loss: 2.661468982696533\n",
            "Epoch: 57, Loss: 2.6172943115234375\n",
            "Epoch: 58, Loss: 2.574007749557495\n",
            "Epoch: 59, Loss: 2.531590461730957\n",
            "Epoch: 60, Loss: 2.4900217056274414\n",
            "Epoch: 61, Loss: 2.449284315109253\n",
            "Epoch: 62, Loss: 2.409358501434326\n",
            "Epoch: 63, Loss: 2.370227098464966\n",
            "Epoch: 64, Loss: 2.3318729400634766\n",
            "Epoch: 65, Loss: 2.294278144836426\n",
            "Epoch: 66, Loss: 2.257427215576172\n",
            "Epoch: 67, Loss: 2.2213032245635986\n",
            "Epoch: 68, Loss: 2.1858909130096436\n",
            "Epoch: 69, Loss: 2.1511738300323486\n",
            "Epoch: 70, Loss: 2.117138385772705\n",
            "Epoch: 71, Loss: 2.083768606185913\n",
            "Epoch: 72, Loss: 2.051051139831543\n",
            "Epoch: 73, Loss: 2.0189712047576904\n",
            "Epoch: 74, Loss: 1.9875156879425049\n",
            "Epoch: 75, Loss: 1.9566712379455566\n",
            "Epoch: 76, Loss: 1.926424264907837\n",
            "Epoch: 77, Loss: 1.8967630863189697\n",
            "Epoch: 78, Loss: 1.8676745891571045\n",
            "Epoch: 79, Loss: 1.8391468524932861\n",
            "Epoch: 80, Loss: 1.81116783618927\n",
            "Epoch: 81, Loss: 1.7837263345718384\n",
            "Epoch: 82, Loss: 1.7568105459213257\n",
            "Epoch: 83, Loss: 1.7304102182388306\n",
            "Epoch: 84, Loss: 1.7045139074325562\n",
            "Epoch: 85, Loss: 1.6791114807128906\n",
            "Epoch: 86, Loss: 1.654192328453064\n",
            "Epoch: 87, Loss: 1.629746913909912\n",
            "Epoch: 88, Loss: 1.6057652235031128\n",
            "Epoch: 89, Loss: 1.5822373628616333\n",
            "Epoch: 90, Loss: 1.5591543912887573\n",
            "Epoch: 91, Loss: 1.5365068912506104\n",
            "Epoch: 92, Loss: 1.5142862796783447\n",
            "Epoch: 93, Loss: 1.492483139038086\n",
            "Epoch: 94, Loss: 1.471089482307434\n",
            "Epoch: 95, Loss: 1.450096845626831\n",
            "Epoch: 96, Loss: 1.4294970035552979\n",
            "Epoch: 97, Loss: 1.4092819690704346\n",
            "Epoch: 98, Loss: 1.38944411277771\n",
            "Epoch: 99, Loss: 1.3699755668640137\n"
          ]
        },
        {
          "output_type": "display_data",
          "data": {
            "text/plain": [
              "<Figure size 640x480 with 1 Axes>"
            ],
            "image/png": "[encoded data removed]"
          },
          "metadata": {}
        },
        {
          "output_type": "stream",
          "name": "stdout",
          "text": [
            "Test Loss: 1.331490159034729\n",
            "Epoch: 0, Loss: 1.3508689403533936\n",
            "Epoch: 1, Loss: 1.1712485551834106\n",
            "Epoch: 2, Loss: 1.0232871770858765\n",
            "Epoch: 3, Loss: 0.9010014533996582\n",
            "Epoch: 4, Loss: 0.7996297478675842\n",
            "Epoch: 5, Loss: 0.7153619527816772\n",
            "Epoch: 6, Loss: 0.645131528377533\n",
            "Epoch: 7, Loss: 0.5864588618278503\n",
            "Epoch: 8, Loss: 0.5373300909996033\n",
            "Epoch: 9, Loss: 0.49610400199890137\n",
            "Epoch: 10, Loss: 0.4614379107952118\n",
            "Epoch: 11, Loss: 0.43223002552986145\n",
            "Epoch: 12, Loss: 0.4075738787651062\n",
            "Epoch: 13, Loss: 0.38672155141830444\n",
            "Epoch: 14, Loss: 0.36905431747436523\n",
            "Epoch: 15, Loss: 0.3540594279766083\n",
            "Epoch: 16, Loss: 0.3413107991218567\n",
            "Epoch: 17, Loss: 0.3304538428783417\n",
            "Epoch: 18, Loss: 0.32119256258010864\n",
            "Epoch: 19, Loss: 0.3132796585559845\n",
            "Epoch: 20, Loss: 0.3065081238746643\n",
            "Epoch: 21, Loss: 0.3007041811943054\n",
            "Epoch: 22, Loss: 0.2957218289375305\n",
            "Epoch: 23, Loss: 0.29143816232681274\n",
            "Epoch: 24, Loss: 0.28774961829185486\n",
            "Epoch: 25, Loss: 0.2845686078071594\n",
            "Epoch: 26, Loss: 0.28182101249694824\n",
            "Epoch: 27, Loss: 0.27944415807724\n",
            "Epoch: 28, Loss: 0.27738475799560547\n",
            "Epoch: 29, Loss: 0.27559757232666016\n",
            "Epoch: 30, Loss: 0.274044007062912\n",
            "Epoch: 31, Loss: 0.2726913094520569\n",
            "Epoch: 32, Loss: 0.27151137590408325\n",
            "Epoch: 33, Loss: 0.27048030495643616\n",
            "Epoch: 34, Loss: 0.26957768201828003\n",
            "Epoch: 35, Loss: 0.2687858045101166\n",
            "Epoch: 36, Loss: 0.26808974146842957\n",
            "Epoch: 37, Loss: 0.26747652888298035\n",
            "Epoch: 38, Loss: 0.26693499088287354\n",
            "Epoch: 39, Loss: 0.2664557099342346\n",
            "Epoch: 40, Loss: 0.26603037118911743\n",
            "Epoch: 41, Loss: 0.2656518816947937\n",
            "Epoch: 42, Loss: 0.26531410217285156\n",
            "Epoch: 43, Loss: 0.26501181721687317\n",
            "Epoch: 44, Loss: 0.26474037766456604\n",
            "Epoch: 45, Loss: 0.26449593901634216\n",
            "Epoch: 46, Loss: 0.264274924993515\n",
            "Epoch: 47, Loss: 0.26407450437545776\n",
            "Epoch: 48, Loss: 0.2638920843601227\n",
            "Epoch: 49, Loss: 0.2637254297733307\n",
            "Epoch: 50, Loss: 0.2635725736618042\n",
            "Epoch: 51, Loss: 0.2634319067001343\n",
            "Epoch: 52, Loss: 0.26330187916755676\n",
            "Epoch: 53, Loss: 0.2631813585758209\n",
            "Epoch: 54, Loss: 0.2630690932273865\n",
            "Epoch: 55, Loss: 0.2629642188549042\n",
            "Epoch: 56, Loss: 0.2628658711910248\n",
            "Epoch: 57, Loss: 0.262773334980011\n",
            "Epoch: 58, Loss: 0.2626859247684479\n",
            "Epoch: 59, Loss: 0.26260313391685486\n",
            "Epoch: 60, Loss: 0.2625245153903961\n",
            "Epoch: 61, Loss: 0.2624495327472687\n",
            "Epoch: 62, Loss: 0.26237788796424866\n",
            "Epoch: 63, Loss: 0.2623092830181122\n",
            "Epoch: 64, Loss: 0.2622433304786682\n",
            "Epoch: 65, Loss: 0.2621799409389496\n",
            "Epoch: 66, Loss: 0.26211872696876526\n",
            "Epoch: 67, Loss: 0.26205965876579285\n",
            "Epoch: 68, Loss: 0.2620024085044861\n",
            "Epoch: 69, Loss: 0.2619469165802002\n",
            "Epoch: 70, Loss: 0.26189306378364563\n",
            "Epoch: 71, Loss: 0.26184067130088806\n",
            "Epoch: 72, Loss: 0.2617896795272827\n",
            "Epoch: 73, Loss: 0.2617400288581848\n",
            "Epoch: 74, Loss: 0.26169154047966003\n",
            "Epoch: 75, Loss: 0.26164427399635315\n",
            "Epoch: 76, Loss: 0.26159802079200745\n",
            "Epoch: 77, Loss: 0.2615528404712677\n",
            "Epoch: 78, Loss: 0.26150864362716675\n",
            "Epoch: 79, Loss: 0.2614653706550598\n",
            "Epoch: 80, Loss: 0.2614229917526245\n",
            "Epoch: 81, Loss: 0.26138144731521606\n",
            "Epoch: 82, Loss: 0.2613407075405121\n",
            "Epoch: 83, Loss: 0.26130080223083496\n",
            "Epoch: 84, Loss: 0.26126164197921753\n",
            "Epoch: 85, Loss: 0.2612232267856598\n",
            "Epoch: 86, Loss: 0.26118549704551697\n",
            "Epoch: 87, Loss: 0.26114845275878906\n",
            "Epoch: 88, Loss: 0.26111212372779846\n",
            "Epoch: 89, Loss: 0.261076420545578\n",
            "Epoch: 90, Loss: 0.2610413432121277\n",
            "Epoch: 91, Loss: 0.2610068917274475\n",
            "Epoch: 92, Loss: 0.2609730064868927\n",
            "Epoch: 93, Loss: 0.2609397768974304\n",
            "Epoch: 94, Loss: 0.2609070837497711\n",
            "Epoch: 95, Loss: 0.2608749568462372\n",
            "Epoch: 96, Loss: 0.2608433663845062\n",
            "Epoch: 97, Loss: 0.26081234216690063\n",
            "Epoch: 98, Loss: 0.26078182458877563\n",
            "Epoch: 99, Loss: 0.2607518136501312\n"
          ]
        },
        {
          "output_type": "display_data",
          "data": {
            "text/plain": [
              "<Figure size 640x480 with 1 Axes>"
            ],
            "image/png": "[encoded data removed]"
          },
          "metadata": {}
        },
        {
          "output_type": "stream",
          "name": "stdout",
          "text": [
            "Test Loss: 0.27416515350341797\n"
          ]
        }
      ]
    },
    {
      "cell_type": "markdown",
      "source": [
        "# Q3: Implementing logistic regrssion"
      ],
      "metadata": {
        "id": "qgUragY77DtP"
      }
    },
    {
      "cell_type": "markdown",
      "source": [
        "Same as above, implement a one-neuron neural network with arbitrary number of features. But this time add a logistic activation function, and thus implement logistic regression.\n",
        "\n",
        "Test your implementation on real world data.\n",
        "\n",
        "Try both MSE and BCE loss/cost funciton."
      ],
      "metadata": {
        "id": "D_0VmuwL7K_T"
      }
    },
    {
      "cell_type": "code",
      "source": [
        "import pandas as pd\n",
        "from sklearn.datasets import fetch_openml\n",
        "from sklearn.model_selection import train_test_split\n",
        "from sklearn.preprocessing import StandardScaler\n",
        "import torch\n",
        "import torch.nn as nn\n",
        "\n",
        "# Custom BCE loss function\n",
        "def BCE(y_hat, y):\n",
        "    return -torch.mean(y * torch.log(y_hat) + (1 - y) * torch.log(1 - y_hat))\n",
        "\n",
        "# Custom MSE loss function\n",
        "def MSE(y_hat, y):\n",
        "    return torch.mean((y_hat - y) ** 2)\n",
        "\n",
        "# Logistic Regression model\n",
        "class LogisticRegressionModel(nn.Module):\n",
        "    def __init__(self, input_dim):\n",
        "        super(LogisticRegressionModel, self).__init__()\n",
        "        self.weights = nn.Parameter(torch.randn(input_dim, 1))\n",
        "        self.bias = nn.Parameter(torch.randn(1))\n",
        "\n",
        "    def forward(self, x):\n",
        "        return torch.sigmoid(torch.matmul(x, self.weights) + self.bias)\n",
        "\n",
        "# Load and preprocess data\n",
        "data = fetch_openml(\"heart-disease\", version=1)\n",
        "df = data.frame\n",
        "X = df.drop('target', axis=1)\n",
        "Y = df['target']\n",
        "\n",
        "scaler = StandardScaler()\n",
        "X_scaled = scaler.fit_transform(X)\n",
        "X_train, X_test, y_train, y_test = train_test_split(X_scaled, Y, test_size=0.2, random_state=42)\n",
        "\n",
        "# Convert to PyTorch tensors\n",
        "X_train_tensor = torch.tensor(X_train, dtype=torch.float32)\n",
        "X_test_tensor = torch.tensor(X_test, dtype=torch.float32)\n",
        "y_train_tensor = torch.tensor(y_train.values, dtype=torch.float32).view(-1, 1)\n",
        "y_test_tensor = torch.tensor(y_test.values, dtype=torch.float32).view(-1, 1)\n",
        "\n",
        "# Train the model\n",
        "def train_model(model, X_train, y_train, loss_function='MSE', epochs=100, learning_rate=0.01):\n",
        "    criterion = MSE if loss_function == 'MSE' else BCE\n",
        "    loss_history = []\n",
        "\n",
        "    for epoch in range(epochs):\n",
        "        y_hat = model(X_train)\n",
        "        loss = criterion(y_hat, y_train)\n",
        "        loss.backward()\n",
        "\n",
        "        with torch.no_grad():\n",
        "            model.weights -= learning_rate * model.weights.grad\n",
        "            model.bias -= learning_rate * model.bias.grad\n",
        "\n",
        "        model.weights.grad.zero_()\n",
        "        model.bias.grad.zero_()\n",
        "\n",
        "        loss_history.append(loss.item())\n",
        "\n",
        "        if (epoch + 1) % 10 == 0:\n",
        "            print(f\"Epoch {epoch+1}/{epochs}, Loss: {loss.item()}\")\n",
        "\n",
        "    return loss_history\n",
        "\n",
        "# Create and train models\n",
        "input_dim = X_train_tensor.shape[1]\n",
        "model_mse = LogisticRegressionModel(input_dim)\n",
        "print(\"Training with MSE Loss:\")\n",
        "loss_history_mse = train_model(model_mse, X_train_tensor, y_train_tensor, loss_function='MSE')\n",
        "\n",
        "model_bce = LogisticRegressionModel(input_dim)\n",
        "print(\"Training with BCE Loss:\")\n",
        "loss_history_bce = train_model(model_bce, X_train_tensor, y_train_tensor, loss_function='BCE')\n"
      ],
      "metadata": {
        "colab": {
          "base_uri": "https://localhost:8080/"
        },
        "id": "NSxn1IpSU_Va",
        "outputId": "c8a1fddb-7964-480d-c96f-790af21af2cd"
      },
      "execution_count": 144,
      "outputs": [
        {
          "output_type": "stream",
          "name": "stdout",
          "text": [
            "Training with MSE Loss:\n",
            "Epoch 10/100, Loss: 0.6503040790557861\n",
            "Epoch 20/100, Loss: 0.6495440602302551\n",
            "Epoch 30/100, Loss: 0.6487804651260376\n",
            "Epoch 40/100, Loss: 0.6480132341384888\n",
            "Epoch 50/100, Loss: 0.6472424864768982\n",
            "Epoch 60/100, Loss: 0.6464682221412659\n",
            "Epoch 70/100, Loss: 0.6456906795501709\n",
            "Epoch 80/100, Loss: 0.6449097990989685\n",
            "Epoch 90/100, Loss: 0.644125759601593\n",
            "Epoch 100/100, Loss: 0.6433385014533997\n",
            "Training with BCE Loss:\n",
            "Epoch 10/100, Loss: 2.5198755264282227\n",
            "Epoch 20/100, Loss: 2.4350783824920654\n",
            "Epoch 30/100, Loss: 2.3528692722320557\n",
            "Epoch 40/100, Loss: 2.273263692855835\n",
            "Epoch 50/100, Loss: 2.1962742805480957\n",
            "Epoch 60/100, Loss: 2.1218864917755127\n",
            "Epoch 70/100, Loss: 2.0500876903533936\n",
            "Epoch 80/100, Loss: 1.9808539152145386\n",
            "Epoch 90/100, Loss: 1.9141525030136108\n",
            "Epoch 100/100, Loss: 1.8499467372894287\n"
          ]
        }
      ]
    },
    {
      "cell_type": "code",
      "source": [
        "import matplotlib.pyplot as plt\n",
        "\n",
        "\n",
        "plt.plot(loss_history_mse, label='MSE Loss', color='blue')\n",
        "plt.plot(loss_history_bce, label='BCE Loss', color='red')\n",
        "plt.xlabel('Epochs')\n",
        "plt.ylabel('Loss')\n",
        "plt.title('Loss over Epochs')\n",
        "plt.legend()\n",
        "plt.show()\n"
      ],
      "metadata": {
        "id": "YC7DJ103qiLV",
        "outputId": "0a3e9f43-48f1-401c-c00c-72bc51228559",
        "colab": {
          "base_uri": "https://localhost:8080/",
          "height": 472
        }
      },
      "execution_count": 145,
      "outputs": [
        {
          "output_type": "display_data",
          "data": {
            "text/plain": [
              "<Figure size 640x480 with 1 Axes>"
            ],
            "image/png": "[encoded data removed]"
          },
          "metadata": {}
        }
      ]
    }
  ]
}