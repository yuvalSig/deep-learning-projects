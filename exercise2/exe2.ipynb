{
  "nbformat": 4,
  "nbformat_minor": 0,
  "metadata": {
    "colab": {
      "provenance": []
    },
    "kernelspec": {
      "name": "python3",
      "display_name": "Python 3"
    },
    "language_info": {
      "name": "python"
    }
  },
  "cells": [
    {
      "cell_type": "markdown",
      "source": [
        "# Exercise 2: Shallow and Deep Neural Networks"
      ],
      "metadata": {
        "id": "XnzcXt3XtLSG"
      }
    },
    {
      "cell_type": "markdown",
      "source": [
        "# Q1: The MNIST dataset"
      ],
      "metadata": {
        "id": "03IARzPPo5UV"
      }
    },
    {
      "cell_type": "markdown",
      "source": [
        "Below is a code to train a neural network on the MNIST dataset. The accuracy achieved is ~77%. Try to change the training process in order to improve the network's performance, the best you can.\n",
        "\n",
        "You can change:\n",
        "\n",
        "- The loss function.\n",
        "- The batch size.\n",
        "- The learning rate.\n",
        "\n",
        "Try to tune these parameters in order to achive the best accuracy.\n",
        "\n",
        "**Don't change the network or the number of epochs**.\n",
        "\n",
        "**Note:** If you change the loss function, you might need to change relavant parts of the code accordingly."
      ],
      "metadata": {
        "id": "gH-LkNUOo912"
      }
    },
    {
      "cell_type": "code",
      "source": [
        "import torch\n",
        "import torch.nn as nn\n",
        "import torch.optim as optim\n",
        "from torchvision import datasets, transforms\n",
        "from torch.utils.data import DataLoader\n",
        "import numpy as np\n",
        "\n",
        "# Load MNIST dataset from torch datasets\n",
        "transform = transforms.Compose([transforms.ToTensor(), transforms.Normalize((0.5,), (0.5,))])\n",
        "train_dataset = datasets.MNIST(root='./data', train=True, download=True, transform=transform)\n",
        "test_dataset = datasets.MNIST(root='./data', train=False, download=True, transform=transform)\n",
        "train_loader = DataLoader(train_dataset, batch_size=64, shuffle=True)\n",
        "test_loader = DataLoader(test_dataset, batch_size=64, shuffle=False)"
      ],
      "metadata": {
        "id": "pAYAxSLztMUu"
      },
      "execution_count": 102,
      "outputs": []
    },
    {
      "cell_type": "code",
      "source": [
        "# Define a network class\n",
        "class SoftmaxNet(nn.Module):\n",
        "    def __init__(self):\n",
        "        super(SoftmaxNet, self).__init__()\n",
        "        torch.manual_seed(0)\n",
        "        self.fc1 = nn.Linear(784, 128)\n",
        "        self.fc2 = nn.Linear(128, 64)\n",
        "        self.fc3 = nn.Linear(64, 10)\n",
        "\n",
        "    def forward(self, x):\n",
        "        x = torch.flatten(x, 1)\n",
        "        x = torch.relu(self.fc1(x))\n",
        "        x = torch.relu(self.fc2(x))\n",
        "        x = nn.Softmax(dim=1)(self.fc3(x))\n",
        "        return x"
      ],
      "metadata": {
        "id": "xRWfyuWPuAHi"
      },
      "execution_count": 103,
      "outputs": []
    },
    {
      "cell_type": "code",
      "source": [
        "# One-hot encoding\n",
        "def one_hot_encode(labels):\n",
        "    one_hot = torch.zeros(labels.shape[0], 10)\n",
        "    one_hot[torch.arange(labels.shape[0]), labels] = 1\n",
        "    return one_hot"
      ],
      "metadata": {
        "id": "rXNnuE_7uJ16"
      },
      "execution_count": 104,
      "outputs": []
    },
    {
      "cell_type": "code",
      "source": [
        "def accuracy(net, test_loader):\n",
        "    net.eval()\n",
        "    correct = 0\n",
        "    total = 0\n",
        "    with torch.no_grad():\n",
        "        for data, target in test_loader:\n",
        "            outputs = net(data)\n",
        "            _, predicted = torch.max(outputs.data, 1)\n",
        "            total += target.size(0)\n",
        "            correct += (predicted == target).sum().item()\n",
        "    return 100 * correct / total"
      ],
      "metadata": {
        "id": "QVv9E2P3uQka"
      },
      "execution_count": 105,
      "outputs": []
    },
    {
      "cell_type": "code",
      "source": [
        "softmax_net = SoftmaxNet()\n",
        "criterion = nn.MSELoss()\n",
        "\n",
        "def train(epochs,lr):\n",
        "    optimizer = optim.SGD(softmax_net.parameters(), lr)\n",
        "    LOSS = []\n",
        "    for epoch in range(epochs):\n",
        "        for data, target in train_loader:\n",
        "            optimizer.zero_grad()\n",
        "            output = softmax_net(data)\n",
        "            loss = criterion(output, one_hot_encode(target))\n",
        "            loss.backward()\n",
        "            optimizer.step()\n",
        "            LOSS.append(loss.item())\n",
        "        print(f'Epoch {epoch+1}, Loss: {loss.item():.4f}')\n",
        "    return LOSS\n",
        "\n",
        "#train(15,lr)\n",
        "#accuracy(softmax_net, test_loader)"
      ],
      "metadata": {
        "id": "NWHhvcy95FS5"
      },
      "execution_count": 110,
      "outputs": []
    },
    {
      "cell_type": "code",
      "source": [
        "import matplotlib.pyplot as plt\n",
        "\n",
        "# Define the list of learning rates\n",
        "learning_rates = [0.000001, 0.00001, 0.0001,0.001,0.01,0.1,1]\n",
        "\n",
        "# Initialize a list to store accuracies for each learning rate\n",
        "accuracies = []\n",
        "\n",
        "# Loop over each learning rate\n",
        "for lr in learning_rates:\n",
        "    print(f\"Training with learning rate: {lr}\")\n",
        "\n",
        "    # Train the model\n",
        "    train(15, lr)\n",
        "\n",
        "    # Get the accuracy of the model on the test set\n",
        "    acc = accuracy(softmax_net, test_loader)  # Calculate accuracy using the test set\n",
        "\n",
        "    # Print the accuracy for this learning rate\n",
        "    print(f\"Accuracy: {acc}\")\n",
        "    print(\"-\" * 30)\n",
        "\n",
        "    # Append the accuracy to the list\n",
        "    accuracies.append(acc)\n",
        "\n",
        "# Plotting the accuracies for each learning rate\n",
        "plt.figure(figsize=(10, 6))\n",
        "plt.plot(learning_rates, accuracies, marker='o', linestyle='-', color='b')\n",
        "plt.xscale('log')  # Use logarithmic scale for better visualization\n",
        "plt.xlabel('Learning Rate (log scale)')\n",
        "plt.ylabel('Accuracy')\n",
        "plt.title('Accuracy vs Learning Rate')\n",
        "plt.grid(True)\n",
        "plt.show()\n"
      ],
      "metadata": {
        "id": "-cH3jrgT244Z",
        "outputId": "47491ea9-ce8d-4de3-e940-ccbf3fea90e1",
        "colab": {
          "base_uri": "https://localhost:8080/",
          "height": 1000
        }
      },
      "execution_count": 111,
      "outputs": [
        {
          "output_type": "stream",
          "name": "stdout",
          "text": [
            "Training with learning rate: 1e-06\n",
            "Epoch 1, Loss: 0.0896\n",
            "Epoch 2, Loss: 0.0908\n",
            "Epoch 3, Loss: 0.0905\n",
            "Epoch 4, Loss: 0.0900\n",
            "Epoch 5, Loss: 0.0896\n",
            "Epoch 6, Loss: 0.0903\n",
            "Epoch 7, Loss: 0.0898\n",
            "Epoch 8, Loss: 0.0900\n",
            "Epoch 9, Loss: 0.0895\n",
            "Epoch 10, Loss: 0.0899\n",
            "Epoch 11, Loss: 0.0901\n",
            "Epoch 12, Loss: 0.0900\n",
            "Epoch 13, Loss: 0.0902\n",
            "Epoch 14, Loss: 0.0902\n",
            "Epoch 15, Loss: 0.0907\n",
            "Accuracy: 5.83\n",
            "------------------------------\n",
            "Training with learning rate: 1e-05\n",
            "Epoch 1, Loss: 0.0905\n",
            "Epoch 2, Loss: 0.0894\n",
            "Epoch 3, Loss: 0.0899\n",
            "Epoch 4, Loss: 0.0897\n",
            "Epoch 5, Loss: 0.0900\n",
            "Epoch 6, Loss: 0.0898\n",
            "Epoch 7, Loss: 0.0898\n",
            "Epoch 8, Loss: 0.0901\n",
            "Epoch 9, Loss: 0.0899\n",
            "Epoch 10, Loss: 0.0895\n",
            "Epoch 11, Loss: 0.0896\n",
            "Epoch 12, Loss: 0.0905\n",
            "Epoch 13, Loss: 0.0895\n",
            "Epoch 14, Loss: 0.0903\n",
            "Epoch 15, Loss: 0.0894\n",
            "Accuracy: 5.95\n",
            "------------------------------\n",
            "Training with learning rate: 0.0001\n",
            "Epoch 1, Loss: 0.0899\n",
            "Epoch 2, Loss: 0.0904\n",
            "Epoch 3, Loss: 0.0899\n",
            "Epoch 4, Loss: 0.0907\n",
            "Epoch 5, Loss: 0.0896\n",
            "Epoch 6, Loss: 0.0907\n",
            "Epoch 7, Loss: 0.0903\n",
            "Epoch 8, Loss: 0.0899\n",
            "Epoch 9, Loss: 0.0908\n",
            "Epoch 10, Loss: 0.0893\n",
            "Epoch 11, Loss: 0.0902\n",
            "Epoch 12, Loss: 0.0901\n",
            "Epoch 13, Loss: 0.0903\n",
            "Epoch 14, Loss: 0.0898\n",
            "Epoch 15, Loss: 0.0898\n",
            "Accuracy: 7.66\n",
            "------------------------------\n",
            "Training with learning rate: 0.001\n",
            "Epoch 1, Loss: 0.0896\n",
            "Epoch 2, Loss: 0.0897\n",
            "Epoch 3, Loss: 0.0894\n",
            "Epoch 4, Loss: 0.0897\n",
            "Epoch 5, Loss: 0.0899\n",
            "Epoch 6, Loss: 0.0895\n",
            "Epoch 7, Loss: 0.0892\n",
            "Epoch 8, Loss: 0.0892\n",
            "Epoch 9, Loss: 0.0899\n",
            "Epoch 10, Loss: 0.0889\n",
            "Epoch 11, Loss: 0.0892\n",
            "Epoch 12, Loss: 0.0897\n",
            "Epoch 13, Loss: 0.0895\n",
            "Epoch 14, Loss: 0.0888\n",
            "Epoch 15, Loss: 0.0889\n",
            "Accuracy: 21.47\n",
            "------------------------------\n",
            "Training with learning rate: 0.01\n",
            "Epoch 1, Loss: 0.0884\n",
            "Epoch 2, Loss: 0.0883\n",
            "Epoch 3, Loss: 0.0843\n",
            "Epoch 4, Loss: 0.0836\n",
            "Epoch 5, Loss: 0.0794\n",
            "Epoch 6, Loss: 0.0747\n",
            "Epoch 7, Loss: 0.0693\n",
            "Epoch 8, Loss: 0.0648\n",
            "Epoch 9, Loss: 0.0570\n",
            "Epoch 10, Loss: 0.0539\n",
            "Epoch 11, Loss: 0.0456\n",
            "Epoch 12, Loss: 0.0497\n",
            "Epoch 13, Loss: 0.0306\n",
            "Epoch 14, Loss: 0.0420\n",
            "Epoch 15, Loss: 0.0367\n",
            "Accuracy: 82.37\n",
            "------------------------------\n",
            "Training with learning rate: 0.1\n",
            "Epoch 1, Loss: 0.0135\n",
            "Epoch 2, Loss: 0.0087\n",
            "Epoch 3, Loss: 0.0097\n",
            "Epoch 4, Loss: 0.0146\n",
            "Epoch 5, Loss: 0.0119\n",
            "Epoch 6, Loss: 0.0076\n",
            "Epoch 7, Loss: 0.0008\n",
            "Epoch 8, Loss: 0.0030\n",
            "Epoch 9, Loss: 0.0092\n",
            "Epoch 10, Loss: 0.0043\n",
            "Epoch 11, Loss: 0.0171\n",
            "Epoch 12, Loss: 0.0183\n",
            "Epoch 13, Loss: 0.0117\n",
            "Epoch 14, Loss: 0.0162\n",
            "Epoch 15, Loss: 0.0070\n",
            "Accuracy: 93.73\n",
            "------------------------------\n",
            "Training with learning rate: 1\n",
            "Epoch 1, Loss: 0.0127\n",
            "Epoch 2, Loss: 0.0025\n",
            "Epoch 3, Loss: 0.0038\n",
            "Epoch 4, Loss: 0.0072\n",
            "Epoch 5, Loss: 0.0020\n",
            "Epoch 6, Loss: 0.0068\n",
            "Epoch 7, Loss: 0.0083\n",
            "Epoch 8, Loss: 0.0008\n",
            "Epoch 9, Loss: 0.0002\n",
            "Epoch 10, Loss: 0.0001\n",
            "Epoch 11, Loss: 0.0034\n",
            "Epoch 12, Loss: 0.0005\n",
            "Epoch 13, Loss: 0.0019\n",
            "Epoch 14, Loss: 0.0000\n",
            "Epoch 15, Loss: 0.0000\n",
            "Accuracy: 97.6\n",
            "------------------------------\n"
          ]
        },
        {
          "output_type": "display_data",
          "data": {
            "text/plain": [
              "<Figure size 1000x600 with 1 Axes>"
            ],
            "image/png": "[encoded data removed]"
          },
          "metadata": {}
        }
      ]
    },
    {
      "cell_type": "markdown",
      "source": [
        "# Q2: XOR functions"
      ],
      "metadata": {
        "id": "6TMZONmL_PtM"
      }
    },
    {
      "cell_type": "markdown",
      "source": [
        "Train a neural network for the XOR dataset (see below). Experiment with different input sizes ($n=4,8,...$). We aim to work\n",
        "with inputs having $n=16$ bits, or more. Our goals in this exercise are:\n",
        "\n",
        "1. Train a neural network to achieve best accuracy on the XOR dataset. For this purpose choose the best networks by tuning, at least a subset, of the follwing parameters:\n",
        "\n",
        "  - The input representation (e.g., 0/1 or 1/-1).\n",
        "  - Number of layers.\n",
        "  - Number of neurons in each layer.\n",
        "  - Choice of activation function(s).\n",
        "  - Batch size, for the mini-batch algorithm.\n",
        "  - Number of epochs.\n",
        "  - Learning rate.\n",
        "\n",
        "Note: When you change one parameter you might need to re-tune a parameter you already tuned. For example, if you change the batch size, you might want to consider a different choice for the learning rate. Or, if you take a bigger network, you might want to use less epochs, etc.\n",
        "\n",
        "2. Study, and demonstrate:\n",
        "  \n",
        "  - The effect of the number of layers on the number of neurons needed, and the accuracy attained.\n",
        "  - The effect of the batch size in the minibatch gradient descent algorithm.\n",
        "  - The effect of the batch size on the learning rate and other network parameters.\n",
        "  - How the problem changes when the number of input bits grow.\n",
        "\n",
        "3. On your final network, try to interpret the representation in the different hidden layers.\n",
        "\n",
        "If needed you can apply any of the regularization methods we have learned.\n",
        "\n",
        "Note: If you work with very large $n$, you will not be able to generate all possible 0/1 vectors, and you need to construct the dataset differently. Also, in this case it might be necessary to work with regularization."
      ],
      "metadata": {
        "id": "PUTWili7o2Vk"
      }
    },
    {
      "cell_type": "markdown",
      "source": [
        "## The dataset"
      ],
      "metadata": {
        "id": "YGmFwOpAooen"
      }
    },
    {
      "cell_type": "code",
      "source": [
        "import torch\n",
        "import numpy as np\n",
        "import pandas as pd"
      ],
      "metadata": {
        "id": "t_9B5Ok-_TPG"
      },
      "execution_count": 31,
      "outputs": []
    },
    {
      "cell_type": "code",
      "source": [
        "import itertools as it\n",
        "class XORDataset(torch.utils.data.Dataset):\n",
        "\n",
        "    @staticmethod\n",
        "    def random_seubset(m, p=0.7):\n",
        "        np.random.seed(0)\n",
        "        return (np.random.uniform(0, 1, m) <= p).astype(int)\n",
        "\n",
        "    # Generate all 0/1 vectors of length n\n",
        "    @staticmethod\n",
        "    def generate(n):\n",
        "        return list(it.product(*[range(x + 1) for x in [1] * n]))\n",
        "\n",
        "    def __init__(self, n=16, Train=True):\n",
        "\n",
        "        all = self.generate(n)\n",
        "        a = self.random_seubset(2**n)\n",
        "        if Train:\n",
        "            self.X = torch.tensor(np.array(all)[a == 1])\n",
        "        else:\n",
        "            self.X = torch.tensor(np.array(all)[a == 0])\n",
        "\n",
        "        self.Y = self.X.sum(dim=1) % 2\n",
        "\n",
        "    def __len__(self):\n",
        "        return self.X.shape[0]\n",
        "\n",
        "    def __getitem__(self, idx):\n",
        "        return self.X[idx], self.Y[idx]"
      ],
      "metadata": {
        "id": "af08Fyh0_dKs"
      },
      "execution_count": 32,
      "outputs": []
    },
    {
      "cell_type": "code",
      "source": [
        "import torch\n",
        "import torch.nn as nn\n",
        "import torch.optim as optim\n",
        "import itertools as it\n",
        "import numpy as np\n",
        "\n",
        "class XORDataset(torch.utils.data.Dataset):\n",
        "\n",
        "    @staticmethod\n",
        "    def random_subset(m, p=0.7):\n",
        "        np.random.seed(0)\n",
        "        return (np.random.uniform(0, 1, m) <= p).astype(int)\n",
        "\n",
        "    # Generate all 0/1 vectors of length n\n",
        "    @staticmethod\n",
        "    def generate(n):\n",
        "        return list(it.product(*[range(x + 1) for x in [1] * n]))\n",
        "\n",
        "    def __init__(self, n=16, Train=True):\n",
        "        all = self.generate(n)\n",
        "        a = self.random_subset(2**n)\n",
        "        if Train:\n",
        "            self.X = torch.tensor(np.array(all)[a == 1])\n",
        "        else:\n",
        "            self.X = torch.tensor(np.array(all)[a == 0])\n",
        "        self.Y = self.X.sum(dim=1) % 2\n",
        "\n",
        "    def __len__(self):\n",
        "        return self.X.shape[0]\n",
        "\n",
        "    def __getitem__(self, idx):\n",
        "        return self.X[idx], self.Y[idx]\n",
        "\n",
        "class XORNet(nn.Module):\n",
        "    def __init__(self, input_size):\n",
        "        super(XORNet, self).__init__()\n",
        "        torch.manual_seed(0)  # For reproducibility\n",
        "\n",
        "        # Define three hidden layers with ReLU activation\n",
        "        self.fc1 = nn.Linear(input_size, 80)   # First hidden layer\n",
        "        self.fc2 = nn.Linear(80, 80)           # Second hidden layer\n",
        "        self.fc3 = nn.Linear(80, 80)           # Third hidden layer\n",
        "        self.fc4 = nn.Linear(80, 1)            # Output layer (1 neuron for binary classification)\n",
        "\n",
        "    def forward(self, x):\n",
        "        # Forward pass through the network\n",
        "        x = torch.relu(self.fc1(x))  # First hidden layer with ReLU\n",
        "        x = torch.relu(self.fc2(x))  # Second hidden layer with ReLU\n",
        "        x = torch.relu(self.fc3(x))  # Third hidden layer with ReLU\n",
        "        x = torch.sigmoid(self.fc4(x))  # Sigmoid for binary output\n",
        "        return x\n",
        "\n",
        "# Accuracy function on test data\n",
        "def compute_accuracy(model, test_loader):\n",
        "    model.eval()  # Ensure the model is in evaluation mode (not training)\n",
        "    correct = 0\n",
        "    total = 0\n",
        "\n",
        "    with torch.no_grad():  # No need to compute gradients during accuracy calculation\n",
        "        for inputs, labels in test_loader:\n",
        "            inputs = inputs.float()\n",
        "            labels = labels.float()\n",
        "            outputs = model(inputs)\n",
        "\n",
        "            # Convert outputs to binary predictions (0 or 1)\n",
        "            predicted = (outputs.view(-1) > 0.5).float()  # If output > 0.5, consider it as 1, otherwise 0\n",
        "\n",
        "            correct += (predicted == labels.view(-1)).sum().item()  # Count matches\n",
        "            total += labels.size(0)  # Count the total number of examples\n",
        "\n",
        "    accuracy = 100 * correct / total  # Accuracy in percentage\n",
        "    return accuracy\n",
        "\n",
        "# Generate XOR data with n=16\n",
        "train_dataset = XORDataset(n=16, Train=True)\n",
        "train_loader = torch.utils.data.DataLoader(train_dataset, batch_size=8, shuffle=True)\n",
        "\n",
        "test_dataset = XORDataset(n=16, Train=False)\n",
        "test_loader = torch.utils.data.DataLoader(test_dataset, batch_size=8, shuffle=False)\n",
        "\n",
        "# Define the model, loss function, and optimizer\n",
        "model = XORNet(input_size=16)  # Inputs are size 16 for XOR\n",
        "criterion = nn.BCELoss()  # BCE loss for binary classification\n",
        "optimizer = optim.Adam(model.parameters(), lr=0.001)  # Moderate learning rate\n",
        "\n",
        "# Train the model\n",
        "num_epochs = 10\n",
        "for epoch in range(num_epochs):\n",
        "    model.train()  # Indicate the model is in training mode\n",
        "    for inputs, labels in train_loader:\n",
        "        inputs = inputs.float()  # Convert inputs to float\n",
        "        labels = labels.float()  # Convert labels to float\n",
        "        optimizer.zero_grad()  # Reset gradients\n",
        "        outputs = model(inputs)  # Compute model outputs\n",
        "        loss = criterion(outputs.view(-1), labels.view(-1))  # Compute loss\n",
        "        loss.backward()  # Compute gradients\n",
        "        optimizer.step()  # Update model parameters\n",
        "\n",
        "    print(f\"Epoch [{epoch+1}/{num_epochs}], Loss: {loss.item():.4f}\")\n",
        "\n",
        "# Calculate accuracy after training\n",
        "accuracy = compute_accuracy(model, test_loader)\n",
        "print(f\"Test Accuracy after training: {accuracy:.2f}%\")\n"
      ],
      "metadata": {
        "id": "rh6VxwnE8DgG",
        "outputId": "a54d537f-17f6-451a-e5d8-5db25b8d4a1f",
        "colab": {
          "base_uri": "https://localhost:8080/"
        }
      },
      "execution_count": 100,
      "outputs": [
        {
          "output_type": "stream",
          "name": "stdout",
          "text": [
            "Epoch [1/10], Loss: 0.6449\n",
            "Epoch [2/10], Loss: 0.4647\n",
            "Epoch [3/10], Loss: 0.0001\n",
            "Epoch [4/10], Loss: 0.0000\n",
            "Epoch [5/10], Loss: 0.0000\n",
            "Epoch [6/10], Loss: 0.0000\n",
            "Epoch [7/10], Loss: 0.0000\n",
            "Epoch [8/10], Loss: 0.0000\n",
            "Epoch [9/10], Loss: 0.0000\n",
            "Epoch [10/10], Loss: 0.0000\n",
            "Test Accuracy after training: 99.96%\n"
          ]
        }
      ]
    },
    {
      "cell_type": "markdown",
      "source": [
        "## Example of a small XOR dataset"
      ],
      "metadata": {
        "id": "qLgp_QixosBL"
      }
    },
    {
      "cell_type": "code",
      "source": [
        "data = XORDataset(3)"
      ],
      "metadata": {
        "id": "aFcMRwbQmIZn"
      },
      "execution_count": 9,
      "outputs": []
    },
    {
      "cell_type": "code",
      "source": [
        "data.X"
      ],
      "metadata": {
        "colab": {
          "base_uri": "https://localhost:8080/"
        },
        "id": "7SilbzGpmQht",
        "outputId": "401564df-27da-4101-e8fc-00dba15ce7ed"
      },
      "execution_count": 10,
      "outputs": [
        {
          "output_type": "execute_result",
          "data": {
            "text/plain": [
              "tensor([[0, 0, 0],\n",
              "        [0, 1, 0],\n",
              "        [0, 1, 1],\n",
              "        [1, 0, 0],\n",
              "        [1, 0, 1],\n",
              "        [1, 1, 0]])"
            ]
          },
          "metadata": {},
          "execution_count": 10
        }
      ]
    },
    {
      "cell_type": "code",
      "source": [
        "data.Y"
      ],
      "metadata": {
        "colab": {
          "base_uri": "https://localhost:8080/"
        },
        "id": "xmqbY6hsmQ5D",
        "outputId": "59489277-20e7-4936-b59b-3fc70a2cb2f5"
      },
      "execution_count": 11,
      "outputs": [
        {
          "output_type": "execute_result",
          "data": {
            "text/plain": [
              "tensor([0, 1, 0, 1, 0, 0])"
            ]
          },
          "metadata": {},
          "execution_count": 11
        }
      ]
    },
    {
      "cell_type": "code",
      "source": [
        "data_val = XORDataset(3, Train=False)"
      ],
      "metadata": {
        "id": "aer8XntlmRKo"
      },
      "execution_count": 115,
      "outputs": []
    },
    {
      "cell_type": "code",
      "source": [
        "data_val.X"
      ],
      "metadata": {
        "colab": {
          "base_uri": "https://localhost:8080/"
        },
        "id": "nPhxxHbfJADN",
        "outputId": "0934add9-2162-485d-c597-f6db99640a46"
      },
      "execution_count": 116,
      "outputs": [
        {
          "output_type": "execute_result",
          "data": {
            "text/plain": [
              "tensor([[0, 0, 1],\n",
              "        [1, 1, 1]])"
            ]
          },
          "metadata": {},
          "execution_count": 116
        }
      ]
    },
    {
      "cell_type": "code",
      "source": [
        "data_val.Y"
      ],
      "metadata": {
        "colab": {
          "base_uri": "https://localhost:8080/"
        },
        "id": "ofm5uat1nHN6",
        "outputId": "3dee43dc-ec88-49f2-e2bf-74e14849847d"
      },
      "execution_count": 117,
      "outputs": [
        {
          "output_type": "execute_result",
          "data": {
            "text/plain": [
              "tensor([1, 1])"
            ]
          },
          "metadata": {},
          "execution_count": 117
        }
      ]
    }
  ]
}